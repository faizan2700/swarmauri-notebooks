{
 "cells": [
  {
   "cell_type": "markdown",
   "id": "aed61d84-99ae-4605-a538-bbc2a24243a9",
   "metadata": {},
   "source": [
    "```markdown\n",
    "# Install SwarmaURI SDK\n",
    "Install from Pypi.\n",
    "```"
   ]
  },
  {
   "cell_type": "code",
   "execution_count": 1,
   "id": "d58fda81-6e45-4885-bea9-127f008a52ff",
   "metadata": {},
   "outputs": [
    {
     "name": "stdout",
     "output_type": "stream",
     "text": [
      "Requirement already satisfied: swarmauri[full]==0.4.0 in c:\\users\\lenovo\\appdata\\local\\programs\\python\\python310\\lib\\site-packages (0.4.0)\n",
      "Requirement already satisfied: pydantic in c:\\users\\lenovo\\appdata\\local\\programs\\python\\python310\\lib\\site-packages (from swarmauri[full]==0.4.0) (2.8.2)\n",
      "Requirement already satisfied: numpy in c:\\users\\lenovo\\appdata\\local\\programs\\python\\python310\\lib\\site-packages (from swarmauri[full]==0.4.0) (1.26.4)\n",
      "Requirement already satisfied: requests in c:\\users\\lenovo\\appdata\\local\\programs\\python\\python310\\lib\\site-packages (from swarmauri[full]==0.4.0) (2.32.3)\n",
      "Requirement already satisfied: yake in c:\\users\\lenovo\\appdata\\local\\programs\\python\\python310\\lib\\site-packages (from swarmauri[full]==0.4.0) (0.4.8)\n",
      "Requirement already satisfied: websockets in c:\\users\\lenovo\\appdata\\local\\programs\\python\\python310\\lib\\site-packages (from swarmauri[full]==0.4.0) (11.0.3)\n",
      "Requirement already satisfied: cohere in c:\\users\\lenovo\\appdata\\local\\programs\\python\\python310\\lib\\site-packages (from swarmauri[full]==0.4.0) (5.8.0)\n",
      "Requirement already satisfied: textblob in c:\\users\\lenovo\\appdata\\local\\programs\\python\\python310\\lib\\site-packages (from swarmauri[full]==0.4.0) (0.18.0.post0)\n",
      "Requirement already satisfied: spacy==3.7.4 in c:\\users\\lenovo\\appdata\\local\\programs\\python\\python310\\lib\\site-packages (from swarmauri[full]==0.4.0) (3.7.4)\n",
      "Requirement already satisfied: typing-extensions in c:\\users\\lenovo\\appdata\\local\\programs\\python\\python310\\lib\\site-packages (from swarmauri[full]==0.4.0) (4.12.2)\n",
      "Requirement already satisfied: scipy==1.10.0 in c:\\users\\lenovo\\appdata\\local\\programs\\python\\python310\\lib\\site-packages (from swarmauri[full]==0.4.0) (1.10.0)\n",
      "Requirement already satisfied: boto3 in c:\\users\\lenovo\\appdata\\local\\programs\\python\\python310\\lib\\site-packages (from swarmauri[full]==0.4.0) (1.34.158)\n",
      "Requirement already satisfied: tensorflow in c:\\users\\lenovo\\appdata\\local\\programs\\python\\python310\\lib\\site-packages (from swarmauri[full]==0.4.0) (2.17.0)\n",
      "Requirement already satisfied: openai in c:\\users\\lenovo\\appdata\\local\\programs\\python\\python310\\lib\\site-packages (from swarmauri[full]==0.4.0) (1.40.3)\n",
      "Requirement already satisfied: transformers in c:\\users\\lenovo\\appdata\\local\\programs\\python\\python310\\lib\\site-packages (from swarmauri[full]==0.4.0) (4.44.0)\n",
      "Requirement already satisfied: groq in c:\\users\\lenovo\\appdata\\local\\programs\\python\\python310\\lib\\site-packages (from swarmauri[full]==0.4.0) (0.9.0)\n",
      "Requirement already satisfied: google-auth-httplib2 in c:\\users\\lenovo\\appdata\\local\\programs\\python\\python310\\lib\\site-packages (from swarmauri[full]==0.4.0) (0.2.0)\n",
      "Requirement already satisfied: torch in c:\\users\\lenovo\\appdata\\local\\programs\\python\\python310\\lib\\site-packages (from swarmauri[full]==0.4.0) (2.4.0)\n",
      "Requirement already satisfied: google-api-python-client in c:\\users\\lenovo\\appdata\\local\\programs\\python\\python310\\lib\\site-packages (from swarmauri[full]==0.4.0) (2.140.0)\n",
      "Requirement already satisfied: gensim in c:\\users\\lenovo\\appdata\\local\\programs\\python\\python310\\lib\\site-packages (from swarmauri[full]==0.4.0) (4.3.3)\n",
      "Requirement already satisfied: google-generativeai in c:\\users\\lenovo\\appdata\\local\\programs\\python\\python310\\lib\\site-packages (from swarmauri[full]==0.4.0) (0.7.2)\n",
      "Requirement already satisfied: anthropic in c:\\users\\lenovo\\appdata\\local\\programs\\python\\python310\\lib\\site-packages (from swarmauri[full]==0.4.0) (0.33.0)\n",
      "Requirement already satisfied: google-auth-oauthlib in c:\\users\\lenovo\\appdata\\local\\programs\\python\\python310\\lib\\site-packages (from swarmauri[full]==0.4.0) (1.2.1)\n",
      "Requirement already satisfied: pygments in c:\\users\\lenovo\\appdata\\local\\programs\\python\\python310\\lib\\site-packages (from swarmauri[full]==0.4.0) (2.18.0)\n",
      "Requirement already satisfied: scikit-learn in c:\\users\\lenovo\\appdata\\local\\programs\\python\\python310\\lib\\site-packages (from swarmauri[full]==0.4.0) (1.5.1)\n",
      "Requirement already satisfied: mistralai in c:\\users\\lenovo\\appdata\\local\\programs\\python\\python310\\lib\\site-packages (from swarmauri[full]==0.4.0) (1.0.1)\n",
      "Requirement already satisfied: gradio in c:\\users\\lenovo\\appdata\\local\\programs\\python\\python310\\lib\\site-packages (from swarmauri[full]==0.4.0) (4.26.0)\n",
      "Requirement already satisfied: catalogue<2.1.0,>=2.0.6 in c:\\users\\lenovo\\appdata\\local\\programs\\python\\python310\\lib\\site-packages (from spacy==3.7.4->swarmauri[full]==0.4.0) (2.0.10)\n",
      "Requirement already satisfied: spacy-loggers<2.0.0,>=1.0.0 in c:\\users\\lenovo\\appdata\\local\\programs\\python\\python310\\lib\\site-packages (from spacy==3.7.4->swarmauri[full]==0.4.0) (1.0.5)\n",
      "Requirement already satisfied: packaging>=20.0 in c:\\users\\lenovo\\appdata\\local\\programs\\python\\python310\\lib\\site-packages (from spacy==3.7.4->swarmauri[full]==0.4.0) (24.1)\n",
      "Requirement already satisfied: thinc<8.3.0,>=8.2.2 in c:\\users\\lenovo\\appdata\\local\\programs\\python\\python310\\lib\\site-packages (from spacy==3.7.4->swarmauri[full]==0.4.0) (8.2.5)\n",
      "Requirement already satisfied: weasel<0.4.0,>=0.1.0 in c:\\users\\lenovo\\appdata\\local\\programs\\python\\python310\\lib\\site-packages (from spacy==3.7.4->swarmauri[full]==0.4.0) (0.3.4)\n",
      "Requirement already satisfied: smart-open<7.0.0,>=5.2.1 in c:\\users\\lenovo\\appdata\\local\\programs\\python\\python310\\lib\\site-packages (from spacy==3.7.4->swarmauri[full]==0.4.0) (6.4.0)\n",
      "Requirement already satisfied: spacy-legacy<3.1.0,>=3.0.11 in c:\\users\\lenovo\\appdata\\local\\programs\\python\\python310\\lib\\site-packages (from spacy==3.7.4->swarmauri[full]==0.4.0) (3.0.12)\n",
      "Requirement already satisfied: preshed<3.1.0,>=3.0.2 in c:\\users\\lenovo\\appdata\\local\\programs\\python\\python310\\lib\\site-packages (from spacy==3.7.4->swarmauri[full]==0.4.0) (3.0.9)\n",
      "Requirement already satisfied: srsly<3.0.0,>=2.4.3 in c:\\users\\lenovo\\appdata\\local\\programs\\python\\python310\\lib\\site-packages (from spacy==3.7.4->swarmauri[full]==0.4.0) (2.4.8)\n",
      "Requirement already satisfied: setuptools in c:\\users\\lenovo\\appdata\\local\\programs\\python\\python310\\lib\\site-packages (from spacy==3.7.4->swarmauri[full]==0.4.0) (65.5.0)\n",
      "Requirement already satisfied: wasabi<1.2.0,>=0.9.1 in c:\\users\\lenovo\\appdata\\local\\programs\\python\\python310\\lib\\site-packages (from spacy==3.7.4->swarmauri[full]==0.4.0) (1.1.3)\n",
      "Requirement already satisfied: typer<0.10.0,>=0.3.0 in c:\\users\\lenovo\\appdata\\local\\programs\\python\\python310\\lib\\site-packages (from spacy==3.7.4->swarmauri[full]==0.4.0) (0.9.4)\n",
      "Requirement already satisfied: tqdm<5.0.0,>=4.38.0 in c:\\users\\lenovo\\appdata\\local\\programs\\python\\python310\\lib\\site-packages (from spacy==3.7.4->swarmauri[full]==0.4.0) (4.66.5)\n",
      "Requirement already satisfied: cymem<2.1.0,>=2.0.2 in c:\\users\\lenovo\\appdata\\local\\programs\\python\\python310\\lib\\site-packages (from spacy==3.7.4->swarmauri[full]==0.4.0) (2.0.8)\n",
      "Requirement already satisfied: langcodes<4.0.0,>=3.2.0 in c:\\users\\lenovo\\appdata\\local\\programs\\python\\python310\\lib\\site-packages (from spacy==3.7.4->swarmauri[full]==0.4.0) (3.4.0)\n",
      "Requirement already satisfied: murmurhash<1.1.0,>=0.28.0 in c:\\users\\lenovo\\appdata\\local\\programs\\python\\python310\\lib\\site-packages (from spacy==3.7.4->swarmauri[full]==0.4.0) (1.0.10)\n",
      "Requirement already satisfied: jinja2 in c:\\users\\lenovo\\appdata\\local\\programs\\python\\python310\\lib\\site-packages (from spacy==3.7.4->swarmauri[full]==0.4.0) (3.1.4)\n",
      "Requirement already satisfied: annotated-types>=0.4.0 in c:\\users\\lenovo\\appdata\\local\\programs\\python\\python310\\lib\\site-packages (from pydantic->swarmauri[full]==0.4.0) (0.7.0)\n",
      "Requirement already satisfied: pydantic-core==2.20.1 in c:\\users\\lenovo\\appdata\\local\\programs\\python\\python310\\lib\\site-packages (from pydantic->swarmauri[full]==0.4.0) (2.20.1)\n",
      "Requirement already satisfied: idna<4,>=2.5 in c:\\users\\lenovo\\appdata\\local\\programs\\python\\python310\\lib\\site-packages (from requests->swarmauri[full]==0.4.0) (3.7)\n",
      "Requirement already satisfied: urllib3<3,>=1.21.1 in c:\\users\\lenovo\\appdata\\local\\programs\\python\\python310\\lib\\site-packages (from requests->swarmauri[full]==0.4.0) (2.2.2)\n",
      "Requirement already satisfied: charset-normalizer<4,>=2 in c:\\users\\lenovo\\appdata\\local\\programs\\python\\python310\\lib\\site-packages (from requests->swarmauri[full]==0.4.0) (3.3.2)\n",
      "Requirement already satisfied: certifi>=2017.4.17 in c:\\users\\lenovo\\appdata\\local\\programs\\python\\python310\\lib\\site-packages (from requests->swarmauri[full]==0.4.0) (2024.7.4)\n",
      "Requirement already satisfied: httpx<1,>=0.23.0 in c:\\users\\lenovo\\appdata\\local\\programs\\python\\python310\\lib\\site-packages (from anthropic->swarmauri[full]==0.4.0) (0.27.0)\n",
      "Requirement already satisfied: anyio<5,>=3.5.0 in c:\\users\\lenovo\\appdata\\local\\programs\\python\\python310\\lib\\site-packages (from anthropic->swarmauri[full]==0.4.0) (4.4.0)\n",
      "Requirement already satisfied: tokenizers>=0.13.0 in c:\\users\\lenovo\\appdata\\local\\programs\\python\\python310\\lib\\site-packages (from anthropic->swarmauri[full]==0.4.0) (0.19.1)\n",
      "Requirement already satisfied: jiter<1,>=0.4.0 in c:\\users\\lenovo\\appdata\\local\\programs\\python\\python310\\lib\\site-packages (from anthropic->swarmauri[full]==0.4.0) (0.5.0)\n",
      "Requirement already satisfied: sniffio in c:\\users\\lenovo\\appdata\\local\\programs\\python\\python310\\lib\\site-packages (from anthropic->swarmauri[full]==0.4.0) (1.3.1)\n",
      "Requirement already satisfied: distro<2,>=1.7.0 in c:\\users\\lenovo\\appdata\\local\\programs\\python\\python310\\lib\\site-packages (from anthropic->swarmauri[full]==0.4.0) (1.9.0)\n",
      "Requirement already satisfied: jmespath<2.0.0,>=0.7.1 in c:\\users\\lenovo\\appdata\\local\\programs\\python\\python310\\lib\\site-packages (from boto3->swarmauri[full]==0.4.0) (1.0.1)\n",
      "Requirement already satisfied: s3transfer<0.11.0,>=0.10.0 in c:\\users\\lenovo\\appdata\\local\\programs\\python\\python310\\lib\\site-packages (from boto3->swarmauri[full]==0.4.0) (0.10.2)\n",
      "Requirement already satisfied: botocore<1.35.0,>=1.34.158 in c:\\users\\lenovo\\appdata\\local\\programs\\python\\python310\\lib\\site-packages (from boto3->swarmauri[full]==0.4.0) (1.34.158)\n",
      "Requirement already satisfied: types-requests<3.0.0,>=2.0.0 in c:\\users\\lenovo\\appdata\\local\\programs\\python\\python310\\lib\\site-packages (from cohere->swarmauri[full]==0.4.0) (2.32.0.20240712)\n",
      "Requirement already satisfied: httpx-sse==0.4.0 in c:\\users\\lenovo\\appdata\\local\\programs\\python\\python310\\lib\\site-packages (from cohere->swarmauri[full]==0.4.0) (0.4.0)\n",
      "Requirement already satisfied: fastavro<2.0.0,>=1.9.4 in c:\\users\\lenovo\\appdata\\local\\programs\\python\\python310\\lib\\site-packages (from cohere->swarmauri[full]==0.4.0) (1.9.5)\n",
      "Requirement already satisfied: parameterized<0.10.0,>=0.9.0 in c:\\users\\lenovo\\appdata\\local\\programs\\python\\python310\\lib\\site-packages (from cohere->swarmauri[full]==0.4.0) (0.9.0)\n",
      "Requirement already satisfied: google-auth!=2.24.0,!=2.25.0,<3.0.0.dev0,>=1.32.0 in c:\\users\\lenovo\\appdata\\local\\programs\\python\\python310\\lib\\site-packages (from google-api-python-client->swarmauri[full]==0.4.0) (2.33.0)\n",
      "Requirement already satisfied: uritemplate<5,>=3.0.1 in c:\\users\\lenovo\\appdata\\local\\programs\\python\\python310\\lib\\site-packages (from google-api-python-client->swarmauri[full]==0.4.0) (4.1.1)\n",
      "Requirement already satisfied: httplib2<1.dev0,>=0.19.0 in c:\\users\\lenovo\\appdata\\local\\programs\\python\\python310\\lib\\site-packages (from google-api-python-client->swarmauri[full]==0.4.0) (0.22.0)\n",
      "Requirement already satisfied: google-api-core!=2.0.*,!=2.1.*,!=2.2.*,!=2.3.0,<3.0.0.dev0,>=1.31.5 in c:\\users\\lenovo\\appdata\\local\\programs\\python\\python310\\lib\\site-packages (from google-api-python-client->swarmauri[full]==0.4.0) (2.19.1)\n",
      "Requirement already satisfied: requests-oauthlib>=0.7.0 in c:\\users\\lenovo\\appdata\\local\\programs\\python\\python310\\lib\\site-packages (from google-auth-oauthlib->swarmauri[full]==0.4.0) (2.0.0)\n",
      "Requirement already satisfied: protobuf in c:\\users\\lenovo\\appdata\\local\\programs\\python\\python310\\lib\\site-packages (from google-generativeai->swarmauri[full]==0.4.0) (4.25.4)\n",
      "Requirement already satisfied: google-ai-generativelanguage==0.6.6 in c:\\users\\lenovo\\appdata\\local\\programs\\python\\python310\\lib\\site-packages (from google-generativeai->swarmauri[full]==0.4.0) (0.6.6)\n",
      "Requirement already satisfied: proto-plus<2.0.0dev,>=1.22.3 in c:\\users\\lenovo\\appdata\\local\\programs\\python\\python310\\lib\\site-packages (from google-ai-generativelanguage==0.6.6->google-generativeai->swarmauri[full]==0.4.0) (1.24.0)\n",
      "Requirement already satisfied: altair<6.0,>=4.2.0 in c:\\users\\lenovo\\appdata\\local\\programs\\python\\python310\\lib\\site-packages (from gradio->swarmauri[full]==0.4.0) (5.4.0)\n",
      "Requirement already satisfied: pyyaml<7.0,>=5.0 in c:\\users\\lenovo\\appdata\\local\\programs\\python\\python310\\lib\\site-packages (from gradio->swarmauri[full]==0.4.0) (6.0.2)\n",
      "Requirement already satisfied: pillow<11.0,>=8.0 in c:\\users\\lenovo\\appdata\\local\\programs\\python\\python310\\lib\\site-packages (from gradio->swarmauri[full]==0.4.0) (10.4.0)\n",
      "Requirement already satisfied: huggingface-hub>=0.19.3 in c:\\users\\lenovo\\appdata\\local\\programs\\python\\python310\\lib\\site-packages (from gradio->swarmauri[full]==0.4.0) (0.24.5)\n",
      "Requirement already satisfied: matplotlib~=3.0 in c:\\users\\lenovo\\appdata\\local\\programs\\python\\python310\\lib\\site-packages (from gradio->swarmauri[full]==0.4.0) (3.9.1.post1)\n",
      "Requirement already satisfied: markupsafe~=2.0 in c:\\users\\lenovo\\appdata\\local\\programs\\python\\python310\\lib\\site-packages (from gradio->swarmauri[full]==0.4.0) (2.1.5)\n",
      "Requirement already satisfied: aiofiles<24.0,>=22.0 in c:\\users\\lenovo\\appdata\\local\\programs\\python\\python310\\lib\\site-packages (from gradio->swarmauri[full]==0.4.0) (23.2.1)\n",
      "Requirement already satisfied: importlib-resources<7.0,>=1.3 in c:\\users\\lenovo\\appdata\\local\\programs\\python\\python310\\lib\\site-packages (from gradio->swarmauri[full]==0.4.0) (6.4.0)\n",
      "Requirement already satisfied: pydub in c:\\users\\lenovo\\appdata\\local\\programs\\python\\python310\\lib\\site-packages (from gradio->swarmauri[full]==0.4.0) (0.25.1)\n",
      "Requirement already satisfied: ruff>=0.2.2 in c:\\users\\lenovo\\appdata\\local\\programs\\python\\python310\\lib\\site-packages (from gradio->swarmauri[full]==0.4.0) (0.5.7)\n",
      "Requirement already satisfied: orjson~=3.0 in c:\\users\\lenovo\\appdata\\local\\programs\\python\\python310\\lib\\site-packages (from gradio->swarmauri[full]==0.4.0) (3.10.7)\n",
      "Requirement already satisfied: ffmpy in c:\\users\\lenovo\\appdata\\local\\programs\\python\\python310\\lib\\site-packages (from gradio->swarmauri[full]==0.4.0) (0.4.0)\n",
      "Requirement already satisfied: gradio-client==0.15.1 in c:\\users\\lenovo\\appdata\\local\\programs\\python\\python310\\lib\\site-packages (from gradio->swarmauri[full]==0.4.0) (0.15.1)\n",
      "Requirement already satisfied: uvicorn>=0.14.0 in c:\\users\\lenovo\\appdata\\local\\programs\\python\\python310\\lib\\site-packages (from gradio->swarmauri[full]==0.4.0) (0.30.5)\n",
      "Requirement already satisfied: tomlkit==0.12.0 in c:\\users\\lenovo\\appdata\\local\\programs\\python\\python310\\lib\\site-packages (from gradio->swarmauri[full]==0.4.0) (0.12.0)\n",
      "Requirement already satisfied: fastapi in c:\\users\\lenovo\\appdata\\local\\programs\\python\\python310\\lib\\site-packages (from gradio->swarmauri[full]==0.4.0) (0.112.0)\n",
      "Requirement already satisfied: semantic-version~=2.0 in c:\\users\\lenovo\\appdata\\local\\programs\\python\\python310\\lib\\site-packages (from gradio->swarmauri[full]==0.4.0) (2.10.0)\n",
      "Requirement already satisfied: python-multipart>=0.0.9 in c:\\users\\lenovo\\appdata\\local\\programs\\python\\python310\\lib\\site-packages (from gradio->swarmauri[full]==0.4.0) (0.0.9)\n",
      "Requirement already satisfied: pandas<3.0,>=1.0 in c:\\users\\lenovo\\appdata\\local\\programs\\python\\python310\\lib\\site-packages (from gradio->swarmauri[full]==0.4.0) (2.2.2)\n",
      "Requirement already satisfied: fsspec in c:\\users\\lenovo\\appdata\\local\\programs\\python\\python310\\lib\\site-packages (from gradio-client==0.15.1->gradio->swarmauri[full]==0.4.0) (2024.6.1)\n",
      "Requirement already satisfied: jsonpath-python<2.0.0,>=1.0.6 in c:\\users\\lenovo\\appdata\\local\\programs\\python\\python310\\lib\\site-packages (from mistralai->swarmauri[full]==0.4.0) (1.0.6)\n",
      "Requirement already satisfied: python-dateutil<3.0.0,>=2.9.0.post0 in c:\\users\\lenovo\\appdata\\local\\programs\\python\\python310\\lib\\site-packages (from mistralai->swarmauri[full]==0.4.0) (2.9.0.post0)\n",
      "Requirement already satisfied: typing-inspect<0.10.0,>=0.9.0 in c:\\users\\lenovo\\appdata\\local\\programs\\python\\python310\\lib\\site-packages (from mistralai->swarmauri[full]==0.4.0) (0.9.0)\n",
      "Requirement already satisfied: threadpoolctl>=3.1.0 in c:\\users\\lenovo\\appdata\\local\\programs\\python\\python310\\lib\\site-packages (from scikit-learn->swarmauri[full]==0.4.0) (3.5.0)\n",
      "Requirement already satisfied: joblib>=1.2.0 in c:\\users\\lenovo\\appdata\\local\\programs\\python\\python310\\lib\\site-packages (from scikit-learn->swarmauri[full]==0.4.0) (1.4.2)\n",
      "Requirement already satisfied: tensorflow-intel==2.17.0 in c:\\users\\lenovo\\appdata\\local\\programs\\python\\python310\\lib\\site-packages (from tensorflow->swarmauri[full]==0.4.0) (2.17.0)\n",
      "Requirement already satisfied: wrapt>=1.11.0 in c:\\users\\lenovo\\appdata\\local\\programs\\python\\python310\\lib\\site-packages (from tensorflow-intel==2.17.0->tensorflow->swarmauri[full]==0.4.0) (1.16.0)\n",
      "Requirement already satisfied: termcolor>=1.1.0 in c:\\users\\lenovo\\appdata\\local\\programs\\python\\python310\\lib\\site-packages (from tensorflow-intel==2.17.0->tensorflow->swarmauri[full]==0.4.0) (2.4.0)\n",
      "Requirement already satisfied: absl-py>=1.0.0 in c:\\users\\lenovo\\appdata\\local\\programs\\python\\python310\\lib\\site-packages (from tensorflow-intel==2.17.0->tensorflow->swarmauri[full]==0.4.0) (2.1.0)\n",
      "Requirement already satisfied: tensorboard<2.18,>=2.17 in c:\\users\\lenovo\\appdata\\local\\programs\\python\\python310\\lib\\site-packages (from tensorflow-intel==2.17.0->tensorflow->swarmauri[full]==0.4.0) (2.17.0)\n",
      "Requirement already satisfied: tensorflow-io-gcs-filesystem>=0.23.1 in c:\\users\\lenovo\\appdata\\local\\programs\\python\\python310\\lib\\site-packages (from tensorflow-intel==2.17.0->tensorflow->swarmauri[full]==0.4.0) (0.31.0)\n",
      "Requirement already satisfied: grpcio<2.0,>=1.24.3 in c:\\users\\lenovo\\appdata\\local\\programs\\python\\python310\\lib\\site-packages (from tensorflow-intel==2.17.0->tensorflow->swarmauri[full]==0.4.0) (1.65.4)\n",
      "Requirement already satisfied: ml-dtypes<0.5.0,>=0.3.1 in c:\\users\\lenovo\\appdata\\local\\programs\\python\\python310\\lib\\site-packages (from tensorflow-intel==2.17.0->tensorflow->swarmauri[full]==0.4.0) (0.4.0)\n",
      "Requirement already satisfied: flatbuffers>=24.3.25 in c:\\users\\lenovo\\appdata\\local\\programs\\python\\python310\\lib\\site-packages (from tensorflow-intel==2.17.0->tensorflow->swarmauri[full]==0.4.0) (24.3.25)\n",
      "Requirement already satisfied: google-pasta>=0.1.1 in c:\\users\\lenovo\\appdata\\local\\programs\\python\\python310\\lib\\site-packages (from tensorflow-intel==2.17.0->tensorflow->swarmauri[full]==0.4.0) (0.2.0)\n",
      "Requirement already satisfied: six>=1.12.0 in c:\\users\\lenovo\\appdata\\local\\programs\\python\\python310\\lib\\site-packages (from tensorflow-intel==2.17.0->tensorflow->swarmauri[full]==0.4.0) (1.16.0)\n",
      "Requirement already satisfied: opt-einsum>=2.3.2 in c:\\users\\lenovo\\appdata\\local\\programs\\python\\python310\\lib\\site-packages (from tensorflow-intel==2.17.0->tensorflow->swarmauri[full]==0.4.0) (3.3.0)\n",
      "Requirement already satisfied: keras>=3.2.0 in c:\\users\\lenovo\\appdata\\local\\programs\\python\\python310\\lib\\site-packages (from tensorflow-intel==2.17.0->tensorflow->swarmauri[full]==0.4.0) (3.4.1)\n",
      "Requirement already satisfied: libclang>=13.0.0 in c:\\users\\lenovo\\appdata\\local\\programs\\python\\python310\\lib\\site-packages (from tensorflow-intel==2.17.0->tensorflow->swarmauri[full]==0.4.0) (18.1.1)\n",
      "Requirement already satisfied: gast!=0.5.0,!=0.5.1,!=0.5.2,>=0.2.1 in c:\\users\\lenovo\\appdata\\local\\programs\\python\\python310\\lib\\site-packages (from tensorflow-intel==2.17.0->tensorflow->swarmauri[full]==0.4.0) (0.6.0)\n",
      "Requirement already satisfied: h5py>=3.10.0 in c:\\users\\lenovo\\appdata\\local\\programs\\python\\python310\\lib\\site-packages (from tensorflow-intel==2.17.0->tensorflow->swarmauri[full]==0.4.0) (3.11.0)\n",
      "Requirement already satisfied: astunparse>=1.6.0 in c:\\users\\lenovo\\appdata\\local\\programs\\python\\python310\\lib\\site-packages (from tensorflow-intel==2.17.0->tensorflow->swarmauri[full]==0.4.0) (1.6.3)\n",
      "Requirement already satisfied: nltk>=3.8 in c:\\users\\lenovo\\appdata\\local\\programs\\python\\python310\\lib\\site-packages (from textblob->swarmauri[full]==0.4.0) (3.8.2)\n",
      "Requirement already satisfied: sympy in c:\\users\\lenovo\\appdata\\local\\programs\\python\\python310\\lib\\site-packages (from torch->swarmauri[full]==0.4.0) (1.13.2)\n",
      "Requirement already satisfied: networkx in c:\\users\\lenovo\\appdata\\local\\programs\\python\\python310\\lib\\site-packages (from torch->swarmauri[full]==0.4.0) (3.3)\n",
      "Requirement already satisfied: filelock in c:\\users\\lenovo\\appdata\\local\\programs\\python\\python310\\lib\\site-packages (from torch->swarmauri[full]==0.4.0) (3.15.4)\n",
      "Requirement already satisfied: safetensors>=0.4.1 in c:\\users\\lenovo\\appdata\\local\\programs\\python\\python310\\lib\\site-packages (from transformers->swarmauri[full]==0.4.0) (0.4.4)\n",
      "Requirement already satisfied: regex!=2019.12.17 in c:\\users\\lenovo\\appdata\\local\\programs\\python\\python310\\lib\\site-packages (from transformers->swarmauri[full]==0.4.0) (2024.7.24)\n",
      "Requirement already satisfied: click>=6.0 in c:\\users\\lenovo\\appdata\\local\\programs\\python\\python310\\lib\\site-packages (from yake->swarmauri[full]==0.4.0) (8.1.7)\n",
      "Requirement already satisfied: segtok in c:\\users\\lenovo\\appdata\\local\\programs\\python\\python310\\lib\\site-packages (from yake->swarmauri[full]==0.4.0) (1.5.11)\n",
      "Requirement already satisfied: jellyfish in c:\\users\\lenovo\\appdata\\local\\programs\\python\\python310\\lib\\site-packages (from yake->swarmauri[full]==0.4.0) (1.1.0)\n",
      "Requirement already satisfied: tabulate in c:\\users\\lenovo\\appdata\\local\\programs\\python\\python310\\lib\\site-packages (from yake->swarmauri[full]==0.4.0) (0.9.0)\n",
      "Requirement already satisfied: jsonschema>=3.0 in c:\\users\\lenovo\\appdata\\local\\programs\\python\\python310\\lib\\site-packages (from altair<6.0,>=4.2.0->gradio->swarmauri[full]==0.4.0) (4.23.0)\n",
      "Requirement already satisfied: narwhals>=1.1.0 in c:\\users\\lenovo\\appdata\\local\\programs\\python\\python310\\lib\\site-packages (from altair<6.0,>=4.2.0->gradio->swarmauri[full]==0.4.0) (1.3.0)\n",
      "Requirement already satisfied: exceptiongroup>=1.0.2 in c:\\users\\lenovo\\appdata\\local\\programs\\python\\python310\\lib\\site-packages (from anyio<5,>=3.5.0->anthropic->swarmauri[full]==0.4.0) (1.2.2)\n",
      "Requirement already satisfied: colorama in c:\\users\\lenovo\\appdata\\local\\programs\\python\\python310\\lib\\site-packages (from click>=6.0->yake->swarmauri[full]==0.4.0) (0.4.6)\n",
      "Requirement already satisfied: googleapis-common-protos<2.0.dev0,>=1.56.2 in c:\\users\\lenovo\\appdata\\local\\programs\\python\\python310\\lib\\site-packages (from google-api-core!=2.0.*,!=2.1.*,!=2.2.*,!=2.3.0,<3.0.0.dev0,>=1.31.5->google-api-python-client->swarmauri[full]==0.4.0) (1.63.2)\n",
      "Requirement already satisfied: cachetools<6.0,>=2.0.0 in c:\\users\\lenovo\\appdata\\local\\programs\\python\\python310\\lib\\site-packages (from google-auth!=2.24.0,!=2.25.0,<3.0.0.dev0,>=1.32.0->google-api-python-client->swarmauri[full]==0.4.0) (5.4.0)\n",
      "Requirement already satisfied: pyasn1-modules>=0.2.1 in c:\\users\\lenovo\\appdata\\local\\programs\\python\\python310\\lib\\site-packages (from google-auth!=2.24.0,!=2.25.0,<3.0.0.dev0,>=1.32.0->google-api-python-client->swarmauri[full]==0.4.0) (0.4.0)\n",
      "Requirement already satisfied: rsa<5,>=3.1.4 in c:\\users\\lenovo\\appdata\\local\\programs\\python\\python310\\lib\\site-packages (from google-auth!=2.24.0,!=2.25.0,<3.0.0.dev0,>=1.32.0->google-api-python-client->swarmauri[full]==0.4.0) (4.9)\n",
      "Requirement already satisfied: pyparsing!=3.0.0,!=3.0.1,!=3.0.2,!=3.0.3,<4,>=2.4.2 in c:\\users\\lenovo\\appdata\\local\\programs\\python\\python310\\lib\\site-packages (from httplib2<1.dev0,>=0.19.0->google-api-python-client->swarmauri[full]==0.4.0) (3.1.2)\n",
      "Requirement already satisfied: httpcore==1.* in c:\\users\\lenovo\\appdata\\local\\programs\\python\\python310\\lib\\site-packages (from httpx<1,>=0.23.0->anthropic->swarmauri[full]==0.4.0) (1.0.5)\n",
      "Requirement already satisfied: h11<0.15,>=0.13 in c:\\users\\lenovo\\appdata\\local\\programs\\python\\python310\\lib\\site-packages (from httpcore==1.*->httpx<1,>=0.23.0->anthropic->swarmauri[full]==0.4.0) (0.14.0)\n",
      "Requirement already satisfied: language-data>=1.2 in c:\\users\\lenovo\\appdata\\local\\programs\\python\\python310\\lib\\site-packages (from langcodes<4.0.0,>=3.2.0->spacy==3.7.4->swarmauri[full]==0.4.0) (1.2.0)\n",
      "Requirement already satisfied: fonttools>=4.22.0 in c:\\users\\lenovo\\appdata\\local\\programs\\python\\python310\\lib\\site-packages (from matplotlib~=3.0->gradio->swarmauri[full]==0.4.0) (4.53.1)\n",
      "Requirement already satisfied: cycler>=0.10 in c:\\users\\lenovo\\appdata\\local\\programs\\python\\python310\\lib\\site-packages (from matplotlib~=3.0->gradio->swarmauri[full]==0.4.0) (0.12.1)\n",
      "Requirement already satisfied: kiwisolver>=1.3.1 in c:\\users\\lenovo\\appdata\\local\\programs\\python\\python310\\lib\\site-packages (from matplotlib~=3.0->gradio->swarmauri[full]==0.4.0) (1.4.5)\n",
      "Requirement already satisfied: contourpy>=1.0.1 in c:\\users\\lenovo\\appdata\\local\\programs\\python\\python310\\lib\\site-packages (from matplotlib~=3.0->gradio->swarmauri[full]==0.4.0) (1.2.1)\n",
      "Requirement already satisfied: tzdata>=2022.7 in c:\\users\\lenovo\\appdata\\local\\programs\\python\\python310\\lib\\site-packages (from pandas<3.0,>=1.0->gradio->swarmauri[full]==0.4.0) (2024.1)\n",
      "Requirement already satisfied: pytz>=2020.1 in c:\\users\\lenovo\\appdata\\local\\programs\\python\\python310\\lib\\site-packages (from pandas<3.0,>=1.0->gradio->swarmauri[full]==0.4.0) (2024.1)\n",
      "Requirement already satisfied: oauthlib>=3.0.0 in c:\\users\\lenovo\\appdata\\local\\programs\\python\\python310\\lib\\site-packages (from requests-oauthlib>=0.7.0->google-auth-oauthlib->swarmauri[full]==0.4.0) (3.2.2)\n",
      "Requirement already satisfied: confection<1.0.0,>=0.0.1 in c:\\users\\lenovo\\appdata\\local\\programs\\python\\python310\\lib\\site-packages (from thinc<8.3.0,>=8.2.2->spacy==3.7.4->swarmauri[full]==0.4.0) (0.1.5)\n",
      "Requirement already satisfied: blis<0.8.0,>=0.7.8 in c:\\users\\lenovo\\appdata\\local\\programs\\python\\python310\\lib\\site-packages (from thinc<8.3.0,>=8.2.2->spacy==3.7.4->swarmauri[full]==0.4.0) (0.7.11)\n",
      "Requirement already satisfied: rich<14.0.0,>=10.11.0 in c:\\users\\lenovo\\appdata\\local\\programs\\python\\python310\\lib\\site-packages (from typer<0.10.0,>=0.3.0->spacy==3.7.4->swarmauri[full]==0.4.0) (13.7.1)\n",
      "Requirement already satisfied: shellingham<2.0.0,>=1.3.0 in c:\\users\\lenovo\\appdata\\local\\programs\\python\\python310\\lib\\site-packages (from typer<0.10.0,>=0.3.0->spacy==3.7.4->swarmauri[full]==0.4.0) (1.5.4)\n",
      "Requirement already satisfied: mypy-extensions>=0.3.0 in c:\\users\\lenovo\\appdata\\local\\programs\\python\\python310\\lib\\site-packages (from typing-inspect<0.10.0,>=0.9.0->mistralai->swarmauri[full]==0.4.0) (1.0.0)\n",
      "Requirement already satisfied: cloudpathlib<0.17.0,>=0.7.0 in c:\\users\\lenovo\\appdata\\local\\programs\\python\\python310\\lib\\site-packages (from weasel<0.4.0,>=0.1.0->spacy==3.7.4->swarmauri[full]==0.4.0) (0.16.0)\n",
      "Requirement already satisfied: starlette<0.38.0,>=0.37.2 in c:\\users\\lenovo\\appdata\\local\\programs\\python\\python310\\lib\\site-packages (from fastapi->gradio->swarmauri[full]==0.4.0) (0.37.2)\n",
      "Requirement already satisfied: mpmath<1.4,>=1.1.0 in c:\\users\\lenovo\\appdata\\local\\programs\\python\\python310\\lib\\site-packages (from sympy->torch->swarmauri[full]==0.4.0) (1.3.0)\n",
      "Requirement already satisfied: wheel<1.0,>=0.23.0 in c:\\users\\lenovo\\appdata\\local\\programs\\python\\python310\\lib\\site-packages (from astunparse>=1.6.0->tensorflow-intel==2.17.0->tensorflow->swarmauri[full]==0.4.0) (0.44.0)\n",
      "Requirement already satisfied: grpcio-status<2.0.dev0,>=1.33.2 in c:\\users\\lenovo\\appdata\\local\\programs\\python\\python310\\lib\\site-packages (from google-api-core!=2.0.*,!=2.1.*,!=2.2.*,!=2.3.0,<3.0.0.dev0,>=1.31.5->google-api-python-client->swarmauri[full]==0.4.0) (1.62.3)\n",
      "Requirement already satisfied: jsonschema-specifications>=2023.03.6 in c:\\users\\lenovo\\appdata\\local\\programs\\python\\python310\\lib\\site-packages (from jsonschema>=3.0->altair<6.0,>=4.2.0->gradio->swarmauri[full]==0.4.0) (2023.12.1)\n",
      "Requirement already satisfied: attrs>=22.2.0 in c:\\users\\lenovo\\appdata\\local\\programs\\python\\python310\\lib\\site-packages (from jsonschema>=3.0->altair<6.0,>=4.2.0->gradio->swarmauri[full]==0.4.0) (24.2.0)\n",
      "Requirement already satisfied: rpds-py>=0.7.1 in c:\\users\\lenovo\\appdata\\local\\programs\\python\\python310\\lib\\site-packages (from jsonschema>=3.0->altair<6.0,>=4.2.0->gradio->swarmauri[full]==0.4.0) (0.20.0)\n",
      "Requirement already satisfied: referencing>=0.28.4 in c:\\users\\lenovo\\appdata\\local\\programs\\python\\python310\\lib\\site-packages (from jsonschema>=3.0->altair<6.0,>=4.2.0->gradio->swarmauri[full]==0.4.0) (0.35.1)\n",
      "Requirement already satisfied: optree in c:\\users\\lenovo\\appdata\\local\\programs\\python\\python310\\lib\\site-packages (from keras>=3.2.0->tensorflow-intel==2.17.0->tensorflow->swarmauri[full]==0.4.0) (0.12.1)\n",
      "Requirement already satisfied: namex in c:\\users\\lenovo\\appdata\\local\\programs\\python\\python310\\lib\\site-packages (from keras>=3.2.0->tensorflow-intel==2.17.0->tensorflow->swarmauri[full]==0.4.0) (0.0.8)\n",
      "Requirement already satisfied: marisa-trie>=0.7.7 in c:\\users\\lenovo\\appdata\\local\\programs\\python\\python310\\lib\\site-packages (from language-data>=1.2->langcodes<4.0.0,>=3.2.0->spacy==3.7.4->swarmauri[full]==0.4.0) (1.2.0)\n",
      "Requirement already satisfied: pyasn1<0.7.0,>=0.4.6 in c:\\users\\lenovo\\appdata\\local\\programs\\python\\python310\\lib\\site-packages (from pyasn1-modules>=0.2.1->google-auth!=2.24.0,!=2.25.0,<3.0.0.dev0,>=1.32.0->google-api-python-client->swarmauri[full]==0.4.0) (0.6.0)\n",
      "Requirement already satisfied: markdown-it-py>=2.2.0 in c:\\users\\lenovo\\appdata\\local\\programs\\python\\python310\\lib\\site-packages (from rich<14.0.0,>=10.11.0->typer<0.10.0,>=0.3.0->spacy==3.7.4->swarmauri[full]==0.4.0) (3.0.0)\n",
      "Requirement already satisfied: markdown>=2.6.8 in c:\\users\\lenovo\\appdata\\local\\programs\\python\\python310\\lib\\site-packages (from tensorboard<2.18,>=2.17->tensorflow-intel==2.17.0->tensorflow->swarmauri[full]==0.4.0) (3.6)\n",
      "Requirement already satisfied: werkzeug>=1.0.1 in c:\\users\\lenovo\\appdata\\local\\programs\\python\\python310\\lib\\site-packages (from tensorboard<2.18,>=2.17->tensorflow-intel==2.17.0->tensorflow->swarmauri[full]==0.4.0) (3.0.3)\n",
      "Requirement already satisfied: tensorboard-data-server<0.8.0,>=0.7.0 in c:\\users\\lenovo\\appdata\\local\\programs\\python\\python310\\lib\\site-packages (from tensorboard<2.18,>=2.17->tensorflow-intel==2.17.0->tensorflow->swarmauri[full]==0.4.0) (0.7.2)\n",
      "Requirement already satisfied: mdurl~=0.1 in c:\\users\\lenovo\\appdata\\local\\programs\\python\\python310\\lib\\site-packages (from markdown-it-py>=2.2.0->rich<14.0.0,>=10.11.0->typer<0.10.0,>=0.3.0->spacy==3.7.4->swarmauri[full]==0.4.0) (0.1.2)\n"
     ]
    },
    {
     "name": "stderr",
     "output_type": "stream",
     "text": [
      "\n",
      "[notice] A new release of pip is available: 23.0.1 -> 24.2\n",
      "[notice] To update, run: python.exe -m pip install --upgrade pip\n"
     ]
    }
   ],
   "source": [
    "! pip install swarmauri[full]==0.4.0"
   ]
  },
  {
   "cell_type": "markdown",
   "id": "a9ede6b8-ffd9-42ef-a2cd-d44ac82bb501",
   "metadata": {},
   "source": [
    "```markdown\n",
    "# Verify Python Version\n",
    "\n",
    "```"
   ]
  },
  {
   "cell_type": "code",
   "execution_count": 2,
   "id": "c9fd2235-a986-487e-bc28-920ceff37a20",
   "metadata": {},
   "outputs": [],
   "source": [
    "import platform"
   ]
  },
  {
   "cell_type": "code",
   "execution_count": 3,
   "id": "8d4c6b34-a0c3-44b4-baf4-1de4e0266e17",
   "metadata": {},
   "outputs": [
    {
     "name": "stdout",
     "output_type": "stream",
     "text": [
      "3.10.11\n"
     ]
    }
   ],
   "source": [
    "print(platform.python_version())"
   ]
  },
  {
   "cell_type": "markdown",
   "id": "5c093cd6-8214-4f5a-9d4c-b27ccaecbb68",
   "metadata": {},
   "source": [
    "```markdown\n",
    "# Verify SwarmaURI SDK Version\n",
    "\n",
    "```"
   ]
  },
  {
   "cell_type": "code",
   "execution_count": 4,
   "id": "459cd037-2d84-4e32-bdff-0e2afd673dc8",
   "metadata": {},
   "outputs": [],
   "source": [
    "import swarmauri"
   ]
  },
  {
   "cell_type": "code",
   "execution_count": 5,
   "id": "62ba7264-f5bc-4400-8ad9-3c8937d32704",
   "metadata": {},
   "outputs": [
    {
     "name": "stdout",
     "output_type": "stream",
     "text": [
      "0.4.0\n"
     ]
    }
   ],
   "source": [
    "print(swarmauri.__version__)\n"
   ]
  }
 ],
 "metadata": {
  "kernelspec": {
   "display_name": "Python 3 (ipykernel)",
   "language": "python",
   "name": "python3"
  },
  "language_info": {
   "codemirror_mode": {
    "name": "ipython",
    "version": 3
   },
   "file_extension": ".py",
   "mimetype": "text/x-python",
   "name": "python",
   "nbconvert_exporter": "python",
   "pygments_lexer": "ipython3",
   "version": "3.10.11"
  }
 },
 "nbformat": 4,
 "nbformat_minor": 5
}
